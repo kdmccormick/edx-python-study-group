{
 "cells": [
  {
   "cell_type": "code",
   "execution_count": 128,
   "metadata": {},
   "outputs": [
    {
     "name": "stdout",
     "output_type": "stream",
     "text": [
      "Is 1 an object? True\n",
      "Is False an object? True\n",
      "Is None an object? True\n",
      "Is print an object? True\n"
     ]
    }
   ],
   "source": [
    "# \"Objects are Python's abstraction for data.\n",
    "#  All data in a Python program is represented by\n",
    "#  objects or by relations between objects.\"\n",
    "#    -- Python 3 docs\n",
    "\n",
    "# Which of these are objects?\n",
    "print('Is 1 an object?', isinstance(1, object))\n",
    "print('Is False an object?', isinstance(False, object))\n",
    "print('Is None an object?', isinstance(None, object))\n",
    "print('Is print an object?', isinstance(print, object))"
   ]
  },
  {
   "cell_type": "code",
   "execution_count": 129,
   "metadata": {},
   "outputs": [
    {
     "name": "stdout",
     "output_type": "stream",
     "text": [
      "Is int an object? True\n",
      "Is bool an object? True\n",
      "Is type(None) an object? True\n",
      "Is type(print) an object? True\n",
      "Is the user-defined class K an object? True\n"
     ]
    }
   ],
   "source": [
    "# Which, if any, of these types are objects?\n",
    "print('Is int an object?', isinstance(int, object))\n",
    "print('Is bool an object?', isinstance(bool, object))\n",
    "print('Is type(None) an object?', isinstance(type(None), object))\n",
    "print('Is type(print) an object?', isinstance(type(print), object))\n",
    "class K: pass\n",
    "print('Is the user-defined class K an object?', isinstance(K, object))"
   ]
  },
  {
   "cell_type": "code",
   "execution_count": 130,
   "metadata": {},
   "outputs": [
    {
     "name": "stdout",
     "output_type": "stream",
     "text": [
      "Is object an object? True\n"
     ]
    }
   ],
   "source": [
    "# Is object an object?!\n",
    "print('Is object an object?', isinstance(object, object))"
   ]
  },
  {
   "cell_type": "code",
   "execution_count": 131,
   "metadata": {},
   "outputs": [],
   "source": [
    "# What are the general categories of objects?\n",
    "\n",
    "none = [\n",
    "    None,                              # None\n",
    "]\n",
    "\n",
    "immutable_sequences = [\n",
    "    'strings!',                        # strings\n",
    "    b'bytestrings!',                   # byte-strings\n",
    "    ('t', 'u', 'p', 'l', 'e', 's'),    # tuples\n",
    "]\n",
    "\n",
    "mutable_sequences = [\n",
    "    ['lists', 'are', 'cool'],          # lists\n",
    "    bytearray(b'mutable bytestrings'), # byte-arrays\n",
    "]\n",
    "\n",
    "sets = [\n",
    "    {'mutable', 'set'},                # sets\n",
    "    frozenset({'immutable', 'set'}),   # frozensets\n",
    "]\n",
    "\n",
    "mappings = [\n",
    "    {'builtin mapping types': [dict]}, # dicts\n",
    "]\n",
    "\n",
    "class MyClass:\n",
    "    def my_func(): pass\n",
    "\n",
    "callables = [\n",
    "    list,                              # built-in classes\n",
    "    list.append,                       # built-in functions\n",
    "    [].append,                         # built-in instance methods\n",
    "    MyClass,                           # user-defined classses\n",
    "    MyClass.my_func,                   # user-defined functions\n",
    "    MyClass().my_func,                 # user-defined instance methods \n",
    "    lambda: (),                        # lambdas\n",
    "    # not pictured:                    # coroutines, generator functions\n",
    "]\n",
    "\n",
    "import random\n",
    "modules = [\n",
    "    random,                            # imported modules\n",
    "]\n",
    "\n",
    "instances = [\n",
    "    MyClass(),                         # user-defined class instances\n",
    "]\n",
    "\n",
    "internals = [\n",
    "    MyClass.my_func.__code__,          # code\n",
    "    # et al\n",
    "]"
   ]
  },
  {
   "cell_type": "code",
   "execution_count": 132,
   "metadata": {},
   "outputs": [
    {
     "name": "stdout",
     "output_type": "stream",
     "text": [
      "id: 10306432\n",
      "type: <class 'NoneType'>\n",
      "repr: None\n",
      "\n",
      "id: 140297944142704\n",
      "type: <class 'str'>\n",
      "repr: 'strings!'\n",
      "\n",
      "id: 140297934551008\n",
      "type: <class 'bytes'>\n",
      "repr: b'bytestrings!'\n",
      "\n",
      "id: 140297944053128\n",
      "type: <class 'tuple'>\n",
      "repr: ('t', 'u', 'p', 'l', 'e', 's')\n",
      "\n",
      "id: 140297935037960\n",
      "type: <class 'list'>\n",
      "repr: ['lists', 'are', 'cool']\n",
      "\n",
      "id: 140297935060528\n",
      "type: <class 'bytearray'>\n",
      "repr: bytearray(b'mutable bytestrings')\n",
      "\n",
      "id: 140297944075624\n",
      "type: <class 'set'>\n",
      "repr: {'set', 'mutable'}\n",
      "\n",
      "id: 140297944075176\n",
      "type: <class 'frozenset'>\n",
      "repr: frozenset({'set', 'immutable'})\n",
      "\n",
      "id: 140297934941136\n",
      "type: <class 'dict'>\n",
      "repr: {'builtin mapping types': [<class 'dict'>]}\n",
      "\n",
      "id: 10252512\n",
      "type: <class 'type'>\n",
      "repr: <class 'list'>\n",
      "\n",
      "id: 140298159243768\n",
      "type: <class 'method_descriptor'>\n",
      "repr: <method 'append' of 'list' objects>\n",
      "\n",
      "id: 140298078681632\n",
      "type: <class 'builtin_function_or_method'>\n",
      "repr: <built-in method append of list object at 0x7f99a894afc8>\n",
      "\n",
      "id: 35326648\n",
      "type: <class 'type'>\n",
      "repr: <class '__main__.MyClass'>\n",
      "\n",
      "id: 140297935000712\n",
      "type: <class 'function'>\n",
      "repr: <function MyClass.my_func at 0x7f99a8941488>\n",
      "\n",
      "id: 140297944833992\n",
      "type: <class 'method'>\n",
      "repr: <bound method MyClass.my_func of <__main__.MyClass object at 0x7f99a88e2c50>>\n",
      "\n",
      "id: 140297935002072\n",
      "type: <class 'function'>\n",
      "repr: <function <lambda> at 0x7f99a89419d8>\n",
      "\n",
      "id: 140298110764120\n",
      "type: <class 'module'>\n",
      "repr: <module 'random' from '/usr/lib/python3.6/random.py'>\n",
      "\n",
      "id: 140297934613472\n",
      "type: <class '__main__.MyClass'>\n",
      "repr: <__main__.MyClass object at 0x7f99a88e2be0>\n",
      "\n",
      "id: 140297935322544\n",
      "type: <class 'code'>\n",
      "repr: <code object my_func at 0x7f99a898fdb0, file \"<ipython-input-131-23e963ad44e2>\", line 28>\n",
      "\n"
     ]
    }
   ],
   "source": [
    "# What do all objects have in common?\n",
    "#   1. An `id` that will never change\n",
    "#   2. A `type` that will never change\n",
    "#   3. A `value` that may or may not be able to change\n",
    "\n",
    "objects = (\n",
    "    none + immutable_sequences + mutable_sequences + sets +\n",
    "    mappings + callables + modules + instances + internals\n",
    ")\n",
    "\n",
    "for obj in objects:\n",
    "    print(f'id: {id(obj)}')\n",
    "    print(f'type: {type(obj)}')\n",
    "    print(f'repr: {repr(obj)}')\n",
    "    print()"
   ]
  },
  {
   "cell_type": "code",
   "execution_count": 134,
   "metadata": {},
   "outputs": [
    {
     "name": "stdout",
     "output_type": "stream",
     "text": [
      "['__class__', '__delattr__', '__dir__', '__doc__', '__eq__', '__format__', '__ge__', '__getattribute__', '__gt__', '__hash__', '__init__', '__init_subclass__', '__le__', '__lt__', '__ne__', '__new__', '__reduce__', '__reduce_ex__', '__repr__', '__setattr__', '__sizeof__', '__str__', '__subclasshook__', 'co_argcount', 'co_cellvars', 'co_code', 'co_consts', 'co_filename', 'co_firstlineno', 'co_flags', 'co_freevars', 'co_kwonlyargcount', 'co_lnotab', 'co_name', 'co_names', 'co_nlocals', 'co_stacksize', 'co_varnames']\n"
     ]
    }
   ],
   "source": [
    "print(dir(MyClass.my_func.__code__))"
   ]
  },
  {
   "cell_type": "code",
   "execution_count": 135,
   "metadata": {
    "scrolled": true
   },
   "outputs": [
    {
     "ename": "TypeError",
     "evalue": "'str' object does not support item assignment",
     "output_type": "error",
     "traceback": [
      "\u001b[0;31m---------------------------------------------------------------------------\u001b[0m",
      "\u001b[0;31mTypeError\u001b[0m                                 Traceback (most recent call last)",
      "\u001b[0;32m<ipython-input-135-80bf7d8f7b48>\u001b[0m in \u001b[0;36m<module>\u001b[0;34m\u001b[0m\n\u001b[1;32m      4\u001b[0m \u001b[0;31m# are immutable (i.e., their values cannot be changed)\u001b[0m\u001b[0;34m\u001b[0m\u001b[0;34m\u001b[0m\u001b[0;34m\u001b[0m\u001b[0m\n\u001b[1;32m      5\u001b[0m \u001b[0ms\u001b[0m \u001b[0;34m=\u001b[0m \u001b[0;34m\"People.\"\u001b[0m\u001b[0;34m\u001b[0m\u001b[0;34m\u001b[0m\u001b[0m\n\u001b[0;32m----> 6\u001b[0;31m \u001b[0ms\u001b[0m\u001b[0;34m[\u001b[0m\u001b[0;34m-\u001b[0m\u001b[0;36m1\u001b[0m\u001b[0;34m]\u001b[0m \u001b[0;34m=\u001b[0m \u001b[0;34m'!'\u001b[0m\u001b[0;34m\u001b[0m\u001b[0;34m\u001b[0m\u001b[0m\n\u001b[0m",
      "\u001b[0;31mTypeError\u001b[0m: 'str' object does not support item assignment"
     ]
    }
   ],
   "source": [
    "# Mutability vs. immutablility\n",
    "\n",
    "# For some types, objects of those types\n",
    "# are immutable (i.e., their values cannot be changed)\n",
    "s = \"People.\"\n",
    "s[-1] = '!'"
   ]
  },
  {
   "cell_type": "code",
   "execution_count": 136,
   "metadata": {},
   "outputs": [
    {
     "data": {
      "text/plain": [
       "-3398787019881023451"
      ]
     },
     "execution_count": 136,
     "metadata": {},
     "output_type": "execute_result"
    }
   ],
   "source": [
    "hash(s)"
   ]
  },
  {
   "cell_type": "code",
   "execution_count": 137,
   "metadata": {
    "scrolled": true
   },
   "outputs": [
    {
     "name": "stdout",
     "output_type": "stream",
     "text": [
      "People. People! False\n"
     ]
    }
   ],
   "source": [
    "# Changes to immutable objects will always return new objects.\n",
    "s = \"People.\"\n",
    "s2 = s.replace('.', '!')\n",
    "print(s, s2, s is s2)"
   ]
  },
  {
   "cell_type": "code",
   "execution_count": 141,
   "metadata": {},
   "outputs": [
    {
     "data": {
      "text/plain": [
       "(True, True)"
      ]
     },
     "execution_count": 141,
     "metadata": {},
     "output_type": "execute_result"
    }
   ],
   "source": [
    "s = \"People\"\n",
    "(s is \"People\", s == \"People\")"
   ]
  },
  {
   "cell_type": "code",
   "execution_count": 146,
   "metadata": {},
   "outputs": [
    {
     "data": {
      "text/plain": [
       "((True, False), (True, True))"
      ]
     },
     "execution_count": 146,
     "metadata": {},
     "output_type": "execute_result"
    }
   ],
   "source": [
    "(\n",
    "    (100000 + 100000 == 200000, 100000 + 100000 is 200000),\n",
    "    (1 + 1 == 2, 1 + 1 is 2)\n",
    ")"
   ]
  },
  {
   "cell_type": "code",
   "execution_count": 147,
   "metadata": {},
   "outputs": [
    {
     "name": "stdout",
     "output_type": "stream",
     "text": [
      "['P', 'e', 'o', 'p', 'l', '!']\n"
     ]
    }
   ],
   "source": [
    "# Some objects are mutable.\n",
    "sl = list(s)\n",
    "sl[-1] = '!'\n",
    "print(sl)"
   ]
  },
  {
   "cell_type": "code",
   "execution_count": 162,
   "metadata": {},
   "outputs": [
    {
     "name": "stdout",
     "output_type": "stream",
     "text": [
      "<class '__main__.CupOfTea'>\n"
     ]
    }
   ],
   "source": [
    "# Let's declare an empty class called CupOfTea.\n",
    "class CupOfTea:\n",
    "    pass\n",
    "print(CupOfTea)"
   ]
  },
  {
   "cell_type": "code",
   "execution_count": 163,
   "metadata": {},
   "outputs": [
    {
     "name": "stdout",
     "output_type": "stream",
     "text": [
      "<__main__.CupOfTea object at 0x7f99a8917940>\n"
     ]
    }
   ],
   "source": [
    "# We can istantiate an instance of CupOfTea called my_cup.\n",
    "my_cup = CupOfTea()\n",
    "print(my_cup)"
   ]
  },
  {
   "cell_type": "code",
   "execution_count": 174,
   "metadata": {},
   "outputs": [
    {
     "name": "stdout",
     "output_type": "stream",
     "text": [
      "my_cup.__dict__ == {'temperature': 190}\n",
      "my_cup.temperature == 190\n"
     ]
    }
   ],
   "source": [
    "# Let's check the dictionary of my_cup.\n",
    "print('my_cup.__dict__ ==', my_cup.__dict__)\n",
    "\n",
    "# Let's check the value of my_cup.temperature.\n",
    "print('my_cup.temperature ==', my_cup.temperature)"
   ]
  },
  {
   "cell_type": "code",
   "execution_count": 169,
   "metadata": {},
   "outputs": [
    {
     "name": "stdout",
     "output_type": "stream",
     "text": [
      "{'__module__': '__main__', '__dict__': <attribute '__dict__' of 'CupOfTea' objects>, '__weakref__': <attribute '__weakref__' of 'CupOfTea' objects>, '__doc__': None, 'temperature': 212}\n",
      "{}\n"
     ]
    }
   ],
   "source": [
    "print(vars(CupOfTea))\n",
    "print(vars(my_cup))"
   ]
  },
  {
   "cell_type": "code",
   "execution_count": 171,
   "metadata": {},
   "outputs": [],
   "source": [
    "# We can assign an attribute directly to my_cup,\n",
    "# called temperature.\n",
    "my_cup.temperature = 190"
   ]
  },
  {
   "cell_type": "code",
   "execution_count": 160,
   "metadata": {},
   "outputs": [
    {
     "ename": "AttributeError",
     "evalue": "temperature",
     "output_type": "error",
     "traceback": [
      "\u001b[0;31m---------------------------------------------------------------------------\u001b[0m",
      "\u001b[0;31mAttributeError\u001b[0m                            Traceback (most recent call last)",
      "\u001b[0;32m<ipython-input-160-b94cf8462a8c>\u001b[0m in \u001b[0;36m<module>\u001b[0;34m\u001b[0m\n\u001b[1;32m      1\u001b[0m \u001b[0;31m# We can remove the attribute temperature from my_cup.\u001b[0m\u001b[0;34m\u001b[0m\u001b[0;34m\u001b[0m\u001b[0;34m\u001b[0m\u001b[0m\n\u001b[0;32m----> 2\u001b[0;31m \u001b[0;32mdel\u001b[0m \u001b[0mmy_cup\u001b[0m\u001b[0;34m.\u001b[0m\u001b[0mtemperature\u001b[0m\u001b[0;34m\u001b[0m\u001b[0;34m\u001b[0m\u001b[0m\n\u001b[0m",
      "\u001b[0;31mAttributeError\u001b[0m: temperature"
     ]
    }
   ],
   "source": [
    "# We can remove the attribute temperature from my_cup.\n",
    "del my_cup.temperature"
   ]
  },
  {
   "cell_type": "code",
   "execution_count": 164,
   "metadata": {},
   "outputs": [],
   "source": [
    "# We can also assign an attribute directly to CupOfTea.\n",
    "CupOfTea.temperature = 212"
   ]
  },
  {
   "cell_type": "code",
   "execution_count": 157,
   "metadata": {},
   "outputs": [
    {
     "name": "stdout",
     "output_type": "stream",
     "text": [
      "CupOfTea.__dict__ == {'__module__': '__main__', '__dict__': <attribute '__dict__' of 'CupOfTea' objects>, '__weakref__': <attribute '__weakref__' of 'CupOfTea' objects>, '__doc__': None, 'temperature': 212}\n",
      "\n",
      "CupOfTea.temperature == 212\n"
     ]
    }
   ],
   "source": [
    "# Check the dictionary of CupOfTea.\n",
    "print('CupOfTea.__dict__ ==', CupOfTea.__dict__)\n",
    "print()\n",
    "\n",
    "# Check the value of CupOfTea.temperature.\n",
    "print('CupOfTea.temperature ==', CupOfTea.temperature)"
   ]
  },
  {
   "cell_type": "code",
   "execution_count": 173,
   "metadata": {},
   "outputs": [],
   "source": [
    "# Remove temperature from CupOfTea.\n",
    "del CupOfTea.temperature"
   ]
  },
  {
   "cell_type": "code",
   "execution_count": 176,
   "metadata": {},
   "outputs": [],
   "source": [
    "# Re-define CupOfTea, now with a custom constructor,\n",
    "# and a .get_description() function.\n",
    "class CupOfTea:\n",
    "    name = 'generic tea'\n",
    "    \n",
    "    def __init__(self, temperature, name='generic tea'):\n",
    "        self.temperature = temperature\n",
    "        self.name = name\n",
    "    def get_description(self, extra_text=''):\n",
    "        return '{!r} at {} degrees fahrenheit{}'.format(\n",
    "            self.name,\n",
    "            self.temperature,\n",
    "            extra_text,\n",
    "        )"
   ]
  },
  {
   "cell_type": "code",
   "execution_count": 177,
   "metadata": {},
   "outputs": [
    {
     "name": "stdout",
     "output_type": "stream",
     "text": [
      "'awesome assam' at 212 degrees fahrenheit\n",
      "'delicate darjeeling' at 190 degrees fahrenheit!\n"
     ]
    }
   ],
   "source": [
    "# Define a couple instances of CupOfTea\n",
    "morning_cup = CupOfTea(212, 'awesome assam')\n",
    "afternoon_cup = CupOfTea(190, 'delicate darjeeling')\n",
    "print(morning_cup.get_description())\n",
    "print(afternoon_cup.get_description(extra_text='!'))"
   ]
  },
  {
   "cell_type": "code",
   "execution_count": 178,
   "metadata": {},
   "outputs": [
    {
     "name": "stdout",
     "output_type": "stream",
     "text": [
      "'not-so-awesome assam' at 70 degrees fahrenheit :(\n"
     ]
    }
   ],
   "source": [
    "# Aliasing: Assignment doesn't create a new object;\n",
    "# it just gives another name to the existing object.\n",
    "also_morning_cup = morning_cup\n",
    "\n",
    "# Therefore, attribute assignments on also_morning_cup will\n",
    "# be reflected when looking at morning_cup.\n",
    "also_morning_cup.name = 'not-so-awesome assam'\n",
    "also_morning_cup.temperature = 70\n",
    "print(morning_cup.get_description(' :('))"
   ]
  },
  {
   "cell_type": "code",
   "execution_count": 181,
   "metadata": {},
   "outputs": [
    {
     "name": "stdout",
     "output_type": "stream",
     "text": [
      "'generic tea' at 190 degrees fahrenheit\n"
     ]
    },
    {
     "data": {
      "text/plain": [
       "True"
      ]
     },
     "execution_count": 181,
     "metadata": {},
     "output_type": "execute_result"
    }
   ],
   "source": [
    "# Same goes with attribute deletion.\n",
    "also_afternoon_cup = afternoon_cup\n",
    "#del also_afternoon_cup.name\n",
    "print(afternoon_cup.get_description())\n",
    "also_afternoon_cup is afternoon_cup"
   ]
  },
  {
   "cell_type": "code",
   "execution_count": 183,
   "metadata": {},
   "outputs": [
    {
     "name": "stdout",
     "output_type": "stream",
     "text": [
      "CupOfTea.get_description ==  <function CupOfTea.get_description at 0x7f99a8941f28>\n",
      "\n",
      "Is CupOfTea.get_description a function? True\n"
     ]
    }
   ],
   "source": [
    "def f(): pass\n",
    "func_type = type(f)\n",
    "\n",
    "# get_description  on CupOfTea is a normal function.\n",
    "print('CupOfTea.get_description == ', CupOfTea.get_description)\n",
    "print()\n",
    "print(\n",
    "    'Is CupOfTea.get_description a function?',\n",
    "    isinstance(CupOfTea.get_description, func_type),\n",
    ")"
   ]
  },
  {
   "cell_type": "code",
   "execution_count": 184,
   "metadata": {},
   "outputs": [
    {
     "name": "stdout",
     "output_type": "stream",
     "text": [
      "morning_cup.get_description ==  <bound method CupOfTea.get_description of <__main__.CupOfTea object at 0x7f99a894fda0>>\n",
      "\n",
      "False\n"
     ]
    }
   ],
   "source": [
    "# But get_description on morning_cup isn't!?\n",
    "print('morning_cup.get_description == ', morning_cup.get_description)\n",
    "print()\n",
    "print(\n",
    "    isinstance(morning_cup.get_description, func_type),\n",
    ")"
   ]
  },
  {
   "cell_type": "code",
   "execution_count": 185,
   "metadata": {},
   "outputs": [
    {
     "name": "stdout",
     "output_type": "stream",
     "text": [
      "'not-so-awesome assam' at 70 degrees fahrenheit, sir\n",
      "'not-so-awesome assam' at 70 degrees fahrenheit, broski\n"
     ]
    }
   ],
   "source": [
    "# morning_cup.get_description is a 'bound method',\n",
    "# which although technically not a function,\n",
    "# can be treated like the original function with its\n",
    "# first argument 'pre-loaded' with an instance of the class.\n",
    "\n",
    "the_method = morning_cup.get_description\n",
    "print(the_method(', sir'))\n",
    "print(the_method(', broski'))"
   ]
  },
  {
   "cell_type": "code",
   "execution_count": 186,
   "metadata": {},
   "outputs": [
    {
     "name": "stdout",
     "output_type": "stream",
     "text": [
      "'iced tea' at -459 degrees fahrenheit. absolutely refreshing!\n"
     ]
    }
   ],
   "source": [
    "# You can replicate this behavior by passing an instance\n",
    "# directly into the original function.\n",
    "\n",
    "the_function = CupOfTea.get_description\n",
    "the_instance = CupOfTea(-459, 'iced tea')\n",
    "the_argument = '. absolutely refreshing!'\n",
    "print(the_function(the_instance, the_argument))"
   ]
  },
  {
   "cell_type": "code",
   "execution_count": null,
   "metadata": {},
   "outputs": [],
   "source": [
    "# We can re-define attributes on objects\n",
    "# that refer to methods.\n",
    "# (This is one way that mocking works!)\n",
    "\n",
    "evening_tea_1 = CupOfTea(185, 'grassy green')\n",
    "evening_tea_2 = CupOfTea(185, 'ooooolong')\n",
    "\n",
    "def coffee_drinkers_perspective(extra_text=None):\n",
    "    return 'tea is boring; DRINK COFFEE'\n",
    "\n",
    "evening_tea_1.get_description = coffee_drinkers_perspective\n",
    "\n",
    "\n",
    "# However, this only redefines the method for individual\n",
    "# instances.\n",
    "print(evening_tea_1.get_description(', yay!'))\n",
    "print(evening_tea_2.get_description(', yay!'))"
   ]
  },
  {
   "cell_type": "code",
   "execution_count": null,
   "metadata": {},
   "outputs": [],
   "source": [
    "# If we re-define the function on the class,\n",
    "# _all_ instances will have the new function.\n",
    "# (This is another way you can do mocking).\n",
    "\n",
    "evening_tea_1 = CupOfTea(185, 'grassy green')\n",
    "evening_tea_2 = CupOfTea(185, 'ooooolong')\n",
    "\n",
    "def coffee_drinkers_perspective(cup_of_tea, extra_text=None):\n",
    "    return '{!r} is boring; DRINK COFFEE'.format(cup_of_tea.name)\n",
    "\n",
    "original = CupOfTea.get_description\n",
    "\n",
    "CupOfTea.get_description = coffee_drinkers_perspective\n",
    "print(evening_tea_1.get_description(', yay!'))\n",
    "print(evening_tea_2.get_description(', yay!'))\n",
    "\n",
    "CupOfTea.get_description = original"
   ]
  },
  {
   "cell_type": "code",
   "execution_count": null,
   "metadata": {},
   "outputs": [],
   "source": []
  }
 ],
 "metadata": {
  "kernelspec": {
   "display_name": "Python 3",
   "language": "python",
   "name": "python3"
  },
  "language_info": {
   "codemirror_mode": {
    "name": "ipython",
    "version": 3
   },
   "file_extension": ".py",
   "mimetype": "text/x-python",
   "name": "python",
   "nbconvert_exporter": "python",
   "pygments_lexer": "ipython3",
   "version": "3.6.8"
  }
 },
 "nbformat": 4,
 "nbformat_minor": 2
}
