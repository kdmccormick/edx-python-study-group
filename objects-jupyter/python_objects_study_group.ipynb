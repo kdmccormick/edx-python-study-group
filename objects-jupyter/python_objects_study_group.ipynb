{
 "cells": [
  {
   "cell_type": "code",
   "execution_count": 1,
   "metadata": {},
   "outputs": [
    {
     "name": "stdout",
     "output_type": "stream",
     "text": [
      "<class '__main__.CupOfTea'>\n"
     ]
    }
   ],
   "source": [
    "# Declare an empty class called CupOfTea.\n",
    "class CupOfTea:\n",
    "    pass\n",
    "print(CupOfTea)"
   ]
  },
  {
   "cell_type": "code",
   "execution_count": 2,
   "metadata": {},
   "outputs": [
    {
     "name": "stdout",
     "output_type": "stream",
     "text": [
      "<__main__.CupOfTea object at 0x7f99aef03400>\n"
     ]
    }
   ],
   "source": [
    "# Instantiate an instance of CupOfTea called my_cup.\n",
    "my_cup = CupOfTea()\n",
    "print(my_cup)"
   ]
  },
  {
   "cell_type": "code",
   "execution_count": 11,
   "metadata": {},
   "outputs": [
    {
     "name": "stdout",
     "output_type": "stream",
     "text": [
      "my_cup.__dict__ == {}\n"
     ]
    },
    {
     "ename": "AttributeError",
     "evalue": "'CupOfTea' object has no attribute 'temperature'",
     "output_type": "error",
     "traceback": [
      "\u001b[0;31m---------------------------------------------------------------------------\u001b[0m",
      "\u001b[0;31mAttributeError\u001b[0m                            Traceback (most recent call last)",
      "\u001b[0;32m<ipython-input-11-98b575dd2ad8>\u001b[0m in \u001b[0;36m<module>\u001b[0;34m\u001b[0m\n\u001b[1;32m      3\u001b[0m \u001b[0;34m\u001b[0m\u001b[0m\n\u001b[1;32m      4\u001b[0m \u001b[0;31m# Check the value of my_cup.temperature.\u001b[0m\u001b[0;34m\u001b[0m\u001b[0;34m\u001b[0m\u001b[0;34m\u001b[0m\u001b[0m\n\u001b[0;32m----> 5\u001b[0;31m \u001b[0mprint\u001b[0m\u001b[0;34m(\u001b[0m\u001b[0;34m'my_cup.temperature =='\u001b[0m\u001b[0;34m,\u001b[0m \u001b[0mmy_cup\u001b[0m\u001b[0;34m.\u001b[0m\u001b[0mtemperature\u001b[0m\u001b[0;34m)\u001b[0m\u001b[0;34m\u001b[0m\u001b[0;34m\u001b[0m\u001b[0m\n\u001b[0m",
      "\u001b[0;31mAttributeError\u001b[0m: 'CupOfTea' object has no attribute 'temperature'"
     ]
    }
   ],
   "source": [
    "# Check the dictionary of my_cup.\n",
    "print('my_cup.__dict__ ==', my_cup.__dict__)\n",
    "\n",
    "# Check the value of my_cup.temperature.\n",
    "print('my_cup.temperature ==', my_cup.temperature)"
   ]
  },
  {
   "cell_type": "code",
   "execution_count": 10,
   "metadata": {},
   "outputs": [
    {
     "ename": "NameError",
     "evalue": "name 'my_object' is not defined",
     "output_type": "error",
     "traceback": [
      "\u001b[0;31m---------------------------------------------------------------------------\u001b[0m",
      "\u001b[0;31mNameError\u001b[0m                                 Traceback (most recent call last)",
      "\u001b[0;32m<ipython-input-10-d12e472a6d7b>\u001b[0m in \u001b[0;36m<module>\u001b[0;34m\u001b[0m\n\u001b[1;32m      1\u001b[0m \u001b[0;31m# Assign a value to my_cup.temperature\u001b[0m\u001b[0;34m\u001b[0m\u001b[0;34m\u001b[0m\u001b[0;34m\u001b[0m\u001b[0m\n\u001b[0;32m----> 2\u001b[0;31m \u001b[0mmy_object\u001b[0m\u001b[0;34m.\u001b[0m\u001b[0mtemperature\u001b[0m \u001b[0;34m=\u001b[0m \u001b[0;36m190\u001b[0m\u001b[0;34m\u001b[0m\u001b[0;34m\u001b[0m\u001b[0m\n\u001b[0m",
      "\u001b[0;31mNameError\u001b[0m: name 'my_object' is not defined"
     ]
    }
   ],
   "source": [
    "# Assign a value to my_cup.temperature\n",
    "my_object.temperature = 190"
   ]
  },
  {
   "cell_type": "code",
   "execution_count": 5,
   "metadata": {},
   "outputs": [
    {
     "ename": "AttributeError",
     "evalue": "temperature",
     "output_type": "error",
     "traceback": [
      "\u001b[0;31m---------------------------------------------------------------------------\u001b[0m",
      "\u001b[0;31mAttributeError\u001b[0m                            Traceback (most recent call last)",
      "\u001b[0;32m<ipython-input-5-33c5bf750c94>\u001b[0m in \u001b[0;36m<module>\u001b[0;34m\u001b[0m\n\u001b[1;32m      1\u001b[0m \u001b[0;31m# Remove temperature from my_cup.\u001b[0m\u001b[0;34m\u001b[0m\u001b[0;34m\u001b[0m\u001b[0;34m\u001b[0m\u001b[0m\n\u001b[0;32m----> 2\u001b[0;31m \u001b[0;32mdel\u001b[0m \u001b[0mmy_cup\u001b[0m\u001b[0;34m.\u001b[0m\u001b[0mtemperature\u001b[0m\u001b[0;34m\u001b[0m\u001b[0;34m\u001b[0m\u001b[0m\n\u001b[0m",
      "\u001b[0;31mAttributeError\u001b[0m: temperature"
     ]
    }
   ],
   "source": [
    "# Remove temperature from my_cup.\n",
    "del my_cup.temperature"
   ]
  },
  {
   "cell_type": "code",
   "execution_count": 6,
   "metadata": {},
   "outputs": [],
   "source": [
    "# Assign an attribute directly to CupOfTea.\n",
    "CupOfTea.temperature = 212"
   ]
  },
  {
   "cell_type": "code",
   "execution_count": 7,
   "metadata": {},
   "outputs": [
    {
     "name": "stdout",
     "output_type": "stream",
     "text": [
      "CupOfTea.__dict__ == {'__module__': '__main__', '__dict__': <attribute '__dict__' of 'CupOfTea' objects>, '__weakref__': <attribute '__weakref__' of 'CupOfTea' objects>, '__doc__': None, 'temperature': 212}\n",
      "\n",
      "CupOfTea.temperature == 212\n"
     ]
    }
   ],
   "source": [
    "# Check the dictionary of CupOfTea.\n",
    "print('CupOfTea.__dict__ ==', CupOfTea.__dict__)\n",
    "print()\n",
    "\n",
    "# Check the value of CupOfTea.temperature.\n",
    "print('CupOfTea.temperature ==', CupOfTea.temperature)"
   ]
  },
  {
   "cell_type": "code",
   "execution_count": 8,
   "metadata": {},
   "outputs": [],
   "source": [
    "# Remove temperature from CupOfTea.\n",
    "del CupOfTea.temperature"
   ]
  },
  {
   "cell_type": "code",
   "execution_count": 45,
   "metadata": {},
   "outputs": [],
   "source": [
    "# Re-define CupOfTea, now with a custom constructor,\n",
    "# and a .get_description() function.\n",
    "class CupOfTea:\n",
    "    name = 'generic tea'\n",
    "    \n",
    "    def __init__(self, temperature, name):\n",
    "        self.temperature = temperature\n",
    "        self.name = name\n",
    "    def get_description(self, extra_text=''):\n",
    "        return '{!r} at {} degrees fahrenheit{}'.format(\n",
    "            self.name,\n",
    "            self.temperature,\n",
    "            extra_text,\n",
    "        )"
   ]
  },
  {
   "cell_type": "code",
   "execution_count": 46,
   "metadata": {},
   "outputs": [
    {
     "name": "stdout",
     "output_type": "stream",
     "text": [
      "'awesome assam' at 212 degrees fahrenheit\n",
      "'delicate darjeeling' at 190 degrees fahrenheit!\n"
     ]
    }
   ],
   "source": [
    "# Define a couple instances of CupOfTea\n",
    "morning_cup = CupOfTea(212, 'awesome assam')\n",
    "afternoon_cup = CupOfTea(190, 'delicate darjeeling')\n",
    "print(morning_cup.get_description())\n",
    "print(afternoon_cup.get_description(extra_text='!'))"
   ]
  },
  {
   "cell_type": "code",
   "execution_count": 47,
   "metadata": {},
   "outputs": [
    {
     "name": "stdout",
     "output_type": "stream",
     "text": [
      "'not-so-awesome assam' at 70 degrees fahrenheit :(\n"
     ]
    }
   ],
   "source": [
    "# Aliasing: Assignment doesn't create a new object;\n",
    "# it just gives another name to the existing object.\n",
    "also_morning_cup = morning_cup\n",
    "\n",
    "# Therefore, attribute assignments on also_morning_cup will\n",
    "# be reflected when looking at morning_cup.\n",
    "also_morning_cup.name = 'not-so-awesome assam'\n",
    "also_morning_cup.temperature = 70\n",
    "print(morning_cup.get_description(' :('))"
   ]
  },
  {
   "cell_type": "code",
   "execution_count": 48,
   "metadata": {},
   "outputs": [
    {
     "name": "stdout",
     "output_type": "stream",
     "text": [
      "'generic tea' at 190 degrees fahrenheit\n"
     ]
    }
   ],
   "source": [
    "# Same goes with attribute deletion.\n",
    "also_afternoon_cup = afternoon_cup\n",
    "del also_afternoon_cup.name\n",
    "print(afternoon_cup.get_description())"
   ]
  },
  {
   "cell_type": "code",
   "execution_count": 43,
   "metadata": {},
   "outputs": [
    {
     "name": "stdout",
     "output_type": "stream",
     "text": [
      "CupOfTea.get_description ==  <function CupOfTea.get_description at 0x7f99a89859d8>\n",
      "\n",
      "Is CupOfTea.get_description a function? True\n"
     ]
    }
   ],
   "source": [
    "def f(): pass\n",
    "func_type = type(f)\n",
    "\n",
    "# get_description  on CupOfTea is a normal function.\n",
    "print('CupOfTea.get_description == ', CupOfTea.get_description)\n",
    "print()\n",
    "print(\n",
    "    'Is CupOfTea.get_description a function?',\n",
    "    isinstance(CupOfTea.get_description, func_type),\n",
    ")"
   ]
  },
  {
   "cell_type": "code",
   "execution_count": 52,
   "metadata": {},
   "outputs": [
    {
     "name": "stdout",
     "output_type": "stream",
     "text": [
      "morning_cup.get_description ==  <bound method CupOfTea.get_description of <__main__.CupOfTea object at 0x7f99a898ccf8>>\n",
      "\n",
      "Is morning_cup.get_description a function? False\n"
     ]
    }
   ],
   "source": [
    "# But get_description on morning_cup isn't!?\n",
    "print('morning_cup.get_description == ', morning_cup.get_description)\n",
    "print()\n",
    "print(\n",
    "    'Is morning_cup.get_description a function?',\n",
    "    isinstance(morning_cup.get_description, func_type),\n",
    ")"
   ]
  },
  {
   "cell_type": "code",
   "execution_count": 64,
   "metadata": {},
   "outputs": [
    {
     "name": "stdout",
     "output_type": "stream",
     "text": [
      "'not-so-awesome assam' at 70 degrees fahrenheit, sir\n",
      "'not-so-awesome assam' at 70 degrees fahrenheit, broski\n"
     ]
    }
   ],
   "source": [
    "# morning_cup.get_description is a 'bound method',\n",
    "# which although technically not a function,\n",
    "# can be treated like the original function with its\n",
    "# first argument 'pre-loaded' with an instance of the class.\n",
    "the_method = morning_cup.get_description\n",
    "print(the_method(', sir'))\n",
    "print(the_method(', broski'))"
   ]
  },
  {
   "cell_type": "code",
   "execution_count": 65,
   "metadata": {},
   "outputs": [
    {
     "name": "stdout",
     "output_type": "stream",
     "text": [
      "'iced tea' at -459 degrees fahrenheit, i hope that's cold enough for you\n"
     ]
    }
   ],
   "source": [
    "# You can replicate this behavior by passing an instance\n",
    "# directly into the original function.\n",
    "print(\n",
    "    CupOfTea.get_description(\n",
    "        CupOfTea(-459, 'iced tea'),\n",
    "        ', i hope that\\'s cold enough for you'\n",
    "    )\n",
    ")"
   ]
  },
  {
   "cell_type": "code",
   "execution_count": null,
   "metadata": {},
   "outputs": [],
   "source": []
  }
 ],
 "metadata": {
  "kernelspec": {
   "display_name": "Python 3",
   "language": "python",
   "name": "python3"
  },
  "language_info": {
   "codemirror_mode": {
    "name": "ipython",
    "version": 3
   },
   "file_extension": ".py",
   "mimetype": "text/x-python",
   "name": "python",
   "nbconvert_exporter": "python",
   "pygments_lexer": "ipython3",
   "version": "3.6.8"
  }
 },
 "nbformat": 4,
 "nbformat_minor": 2
}
