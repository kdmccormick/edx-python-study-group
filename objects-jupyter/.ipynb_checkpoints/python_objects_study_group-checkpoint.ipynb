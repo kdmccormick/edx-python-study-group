{
 "cells": [
  {
   "cell_type": "code",
   "execution_count": 110,
   "metadata": {},
   "outputs": [
    {
     "name": "stdout",
     "output_type": "stream",
     "text": [
      "Is 1 an object? True\n",
      "Is False an object? True\n",
      "Is None an object? True\n",
      "Is print an object? True\n"
     ]
    }
   ],
   "source": [
    "# \"Objects are Python's abstraction for data.\n",
    "#  All data in a Python program is represented by\n",
    "#  objects or by relations between objects.\"\n",
    "#    -- Python 3 docs\n",
    "\n",
    "# Which of these are objects?\n",
    "print('Is 1 an object?', isinstance(1, object))\n",
    "print('Is False an object?', isinstance(False, object))\n",
    "print('Is None an object?', isinstance(None, object))\n",
    "print('Is print an object?', isinstance(print, object))"
   ]
  },
  {
   "cell_type": "code",
   "execution_count": 114,
   "metadata": {},
   "outputs": [
    {
     "name": "stdout",
     "output_type": "stream",
     "text": [
      "Is int an object? True\n",
      "Is bool an object? True\n",
      "Is type(None) an object? True\n",
      "Is type(print) an object? True\n",
      "Is the user-defined class K an object? True\n"
     ]
    }
   ],
   "source": [
    "# Which, if any, of these types are objects?\n",
    "print('Is int an object?', isinstance(int, object))\n",
    "print('Is bool an object?', isinstance(bool, object))\n",
    "print('Is type(None) an object?', isinstance(type(None), object))\n",
    "print('Is type(print) an object?', isinstance(type(print), object))\n",
    "class K: pass\n",
    "print('Is the user-defined class K an object?', isinstance(K, object))"
   ]
  },
  {
   "cell_type": "code",
   "execution_count": 112,
   "metadata": {},
   "outputs": [
    {
     "name": "stdout",
     "output_type": "stream",
     "text": [
      "Is object an object? True\n"
     ]
    }
   ],
   "source": [
    "# Is object an object?!\n",
    "print('Is object an object?', isinstance(object, object))"
   ]
  },
  {
   "cell_type": "code",
   "execution_count": 122,
   "metadata": {},
   "outputs": [],
   "source": [
    "# What are the general categories of objects?\n",
    "\n",
    "none = [\n",
    "    None,                              # None\n",
    "]\n",
    "\n",
    "immutable_sequences = [\n",
    "    'strings!',                        # strings\n",
    "    b'bytestrings!',                   # byte-strings\n",
    "    ('t', 'u', 'p', 'l', 'e', 's'),    # tuples\n",
    "]\n",
    "\n",
    "mutable_sequences = [\n",
    "    ['lists', 'are', 'cool'],          # lists\n",
    "    bytearray(b'mutable bytestrings'), # byte-arrays\n",
    "]\n",
    "\n",
    "sets = [\n",
    "    {'mutable', 'set'},                # sets\n",
    "    frozenset({'immutable', 'set'}),   # frozensets\n",
    "]\n",
    "\n",
    "mappings = [\n",
    "    {'builtin mapping types': [dict]}, # dicts\n",
    "]\n",
    "\n",
    "class MyClass:\n",
    "    def my_func(): pass\n",
    "\n",
    "callables = [\n",
    "    list,                              # built-in classes\n",
    "    list.append,                       # built-in functions\n",
    "    [].append,                         # built-in instance methods\n",
    "    MyClass,                           # user-defined classses\n",
    "    MyClass.my_func,                   # user-defined functions\n",
    "    MyClass().my_func,                 # user-defined instance methods \n",
    "    lambda: (),                        # lambdas\n",
    "    # not pictured:                    # coroutines, generator functions\n",
    "]\n",
    "\n",
    "import random\n",
    "modules = [\n",
    "    random,                            # imported modules\n",
    "]\n",
    "\n",
    "instances = [\n",
    "    MyClass(),                         # user-defined class instances\n",
    "]\n",
    "\n",
    "internals = [\n",
    "    MyClass.my_func.__code__,          # code\n",
    "    # et al\n",
    "]"
   ]
  },
  {
   "cell_type": "code",
   "execution_count": 121,
   "metadata": {},
   "outputs": [
    {
     "name": "stdout",
     "output_type": "stream",
     "text": [
      "id: 10306432\n",
      "type: <class 'NoneType'>\n",
      "repr: None\n",
      "\n",
      "id: 140297935012080\n",
      "type: <class 'str'>\n",
      "repr: 'strings!'\n",
      "\n",
      "id: 140297944493776\n",
      "type: <class 'bytes'>\n",
      "repr: b'bytestrings!'\n",
      "\n",
      "id: 140297935209000\n",
      "type: <class 'tuple'>\n",
      "repr: ('t', 'u', 'p', 'l', 'e', 's')\n",
      "\n",
      "id: 140297944602952\n",
      "type: <class 'list'>\n",
      "repr: ['lists', 'are', 'cool']\n",
      "\n",
      "id: 140297934830200\n",
      "type: <class 'bytearray'>\n",
      "repr: bytearray(b'mutable bytestrings')\n",
      "\n",
      "id: 140297944076072\n",
      "type: <class 'set'>\n",
      "repr: {'set', 'mutable'}\n",
      "\n",
      "id: 140297944075400\n",
      "type: <class 'frozenset'>\n",
      "repr: frozenset({'set', 'immutable'})\n",
      "\n",
      "id: 140297944234528\n",
      "type: <class 'dict'>\n",
      "repr: {'builtin mapping types': [<class 'dict'>]}\n",
      "\n",
      "id: 10252512\n",
      "type: <class 'type'>\n",
      "repr: <class 'list'>\n",
      "\n",
      "id: 140298159243768\n",
      "type: <class 'method_descriptor'>\n",
      "repr: <method 'append' of 'list' objects>\n",
      "\n",
      "id: 140298003785408\n",
      "type: <class 'builtin_function_or_method'>\n",
      "repr: <built-in method append of list object at 0x7f99a9269808>\n",
      "\n",
      "id: 140297935000032\n",
      "type: <class 'function'>\n",
      "repr: <function MyClass.my_func at 0x7f99a89411e0>\n",
      "\n",
      "id: 35339352\n",
      "type: <class 'type'>\n",
      "repr: <class '__main__.MyClass'>\n",
      "\n",
      "id: 140297944833160\n",
      "type: <class 'method'>\n",
      "repr: <bound method MyClass.my_func of <__main__.MyClass object at 0x7f99a8917940>>\n",
      "\n",
      "id: 140297934999896\n",
      "type: <class 'function'>\n",
      "repr: <function <lambda> at 0x7f99a8941158>\n",
      "\n",
      "id: 140298110764120\n",
      "type: <class 'module'>\n",
      "repr: <module 'random' from '/usr/lib/python3.6/random.py'>\n",
      "\n",
      "id: 140297934612296\n",
      "type: <class '__main__.MyClass'>\n",
      "repr: <__main__.MyClass object at 0x7f99a88e2748>\n",
      "\n",
      "id: 140297935319376\n",
      "type: <class 'code'>\n",
      "repr: <code object my_func at 0x7f99a898f150, file \"<ipython-input-118-8a5397d6f4fd>\", line 28>\n",
      "\n"
     ]
    }
   ],
   "source": [
    "objects = (\n",
    "    none + immutable_sequences + mutable_sequences + sets +\n",
    "    mappings + callables + modules + instances + internals\n",
    ")\n",
    "\n",
    "for obj in objects:\n",
    "    print(f'id: {id(obj)}')\n",
    "    print(f'type: {type(obj)}')\n",
    "    print(f'repr: {repr(obj)}')\n",
    "    print()"
   ]
  },
  {
   "cell_type": "code",
   "execution_count": null,
   "metadata": {},
   "outputs": [],
   "source": [
    "# Mutability vs immutablility"
   ]
  },
  {
   "cell_type": "code",
   "execution_count": 1,
   "metadata": {},
   "outputs": [
    {
     "name": "stdout",
     "output_type": "stream",
     "text": [
      "<class '__main__.CupOfTea'>\n"
     ]
    }
   ],
   "source": [
    "# Let's declare an empty class called CupOfTea.\n",
    "class CupOfTea:\n",
    "    pass\n",
    "print(CupOfTea)"
   ]
  },
  {
   "cell_type": "code",
   "execution_count": 2,
   "metadata": {},
   "outputs": [
    {
     "name": "stdout",
     "output_type": "stream",
     "text": [
      "<__main__.CupOfTea object at 0x7f99aef03400>\n"
     ]
    }
   ],
   "source": [
    "# We can istantiate an instance of CupOfTea called my_cup.\n",
    "my_cup = CupOfTea()\n",
    "print(my_cup)"
   ]
  },
  {
   "cell_type": "code",
   "execution_count": 11,
   "metadata": {},
   "outputs": [
    {
     "name": "stdout",
     "output_type": "stream",
     "text": [
      "my_cup.__dict__ == {}\n"
     ]
    },
    {
     "ename": "AttributeError",
     "evalue": "'CupOfTea' object has no attribute 'temperature'",
     "output_type": "error",
     "traceback": [
      "\u001b[0;31m---------------------------------------------------------------------------\u001b[0m",
      "\u001b[0;31mAttributeError\u001b[0m                            Traceback (most recent call last)",
      "\u001b[0;32m<ipython-input-11-98b575dd2ad8>\u001b[0m in \u001b[0;36m<module>\u001b[0;34m\u001b[0m\n\u001b[1;32m      3\u001b[0m \u001b[0;34m\u001b[0m\u001b[0m\n\u001b[1;32m      4\u001b[0m \u001b[0;31m# Check the value of my_cup.temperature.\u001b[0m\u001b[0;34m\u001b[0m\u001b[0;34m\u001b[0m\u001b[0;34m\u001b[0m\u001b[0m\n\u001b[0;32m----> 5\u001b[0;31m \u001b[0mprint\u001b[0m\u001b[0;34m(\u001b[0m\u001b[0;34m'my_cup.temperature =='\u001b[0m\u001b[0;34m,\u001b[0m \u001b[0mmy_cup\u001b[0m\u001b[0;34m.\u001b[0m\u001b[0mtemperature\u001b[0m\u001b[0;34m)\u001b[0m\u001b[0;34m\u001b[0m\u001b[0;34m\u001b[0m\u001b[0m\n\u001b[0m",
      "\u001b[0;31mAttributeError\u001b[0m: 'CupOfTea' object has no attribute 'temperature'"
     ]
    }
   ],
   "source": [
    "# Let's check the dictionary of my_cup.\n",
    "print('my_cup.__dict__ ==', my_cup.__dict__)\n",
    "\n",
    "# Let's check the value of my_cup.temperature.\n",
    "print('my_cup.temperature ==', my_cup.temperature)"
   ]
  },
  {
   "cell_type": "code",
   "execution_count": 10,
   "metadata": {},
   "outputs": [
    {
     "ename": "NameError",
     "evalue": "name 'my_object' is not defined",
     "output_type": "error",
     "traceback": [
      "\u001b[0;31m---------------------------------------------------------------------------\u001b[0m",
      "\u001b[0;31mNameError\u001b[0m                                 Traceback (most recent call last)",
      "\u001b[0;32m<ipython-input-10-d12e472a6d7b>\u001b[0m in \u001b[0;36m<module>\u001b[0;34m\u001b[0m\n\u001b[1;32m      1\u001b[0m \u001b[0;31m# Assign a value to my_cup.temperature\u001b[0m\u001b[0;34m\u001b[0m\u001b[0;34m\u001b[0m\u001b[0;34m\u001b[0m\u001b[0m\n\u001b[0;32m----> 2\u001b[0;31m \u001b[0mmy_object\u001b[0m\u001b[0;34m.\u001b[0m\u001b[0mtemperature\u001b[0m \u001b[0;34m=\u001b[0m \u001b[0;36m190\u001b[0m\u001b[0;34m\u001b[0m\u001b[0;34m\u001b[0m\u001b[0m\n\u001b[0m",
      "\u001b[0;31mNameError\u001b[0m: name 'my_object' is not defined"
     ]
    }
   ],
   "source": [
    "# We can assign an attribute directly to my_cup,\n",
    "# called temperature.\n",
    "my_cup.temperature = 190"
   ]
  },
  {
   "cell_type": "code",
   "execution_count": 5,
   "metadata": {},
   "outputs": [
    {
     "ename": "AttributeError",
     "evalue": "temperature",
     "output_type": "error",
     "traceback": [
      "\u001b[0;31m---------------------------------------------------------------------------\u001b[0m",
      "\u001b[0;31mAttributeError\u001b[0m                            Traceback (most recent call last)",
      "\u001b[0;32m<ipython-input-5-33c5bf750c94>\u001b[0m in \u001b[0;36m<module>\u001b[0;34m\u001b[0m\n\u001b[1;32m      1\u001b[0m \u001b[0;31m# Remove temperature from my_cup.\u001b[0m\u001b[0;34m\u001b[0m\u001b[0;34m\u001b[0m\u001b[0;34m\u001b[0m\u001b[0m\n\u001b[0;32m----> 2\u001b[0;31m \u001b[0;32mdel\u001b[0m \u001b[0mmy_cup\u001b[0m\u001b[0;34m.\u001b[0m\u001b[0mtemperature\u001b[0m\u001b[0;34m\u001b[0m\u001b[0;34m\u001b[0m\u001b[0m\n\u001b[0m",
      "\u001b[0;31mAttributeError\u001b[0m: temperature"
     ]
    }
   ],
   "source": [
    "# We can remove the attribute temperature from my_cup.\n",
    "del my_cup.temperature"
   ]
  },
  {
   "cell_type": "code",
   "execution_count": 6,
   "metadata": {},
   "outputs": [],
   "source": [
    "# We can also assign an attribute directly to CupOfTea.\n",
    "CupOfTea.temperature = 212"
   ]
  },
  {
   "cell_type": "code",
   "execution_count": 102,
   "metadata": {},
   "outputs": [
    {
     "name": "stdout",
     "output_type": "stream",
     "text": [
      "CupOfTea.__dict__ == {'__module__': '__main__', 'name': 'generic tea', '__init__': <function CupOfTea.__init__ at 0x7f99a8985400>, 'get_description': <function CupOfTea.get_description at 0x7f99a8985840>, '__dict__': <attribute '__dict__' of 'CupOfTea' objects>, '__weakref__': <attribute '__weakref__' of 'CupOfTea' objects>, '__doc__': None}\n",
      "\n"
     ]
    },
    {
     "ename": "AttributeError",
     "evalue": "type object 'CupOfTea' has no attribute 'temperature'",
     "output_type": "error",
     "traceback": [
      "\u001b[0;31m---------------------------------------------------------------------------\u001b[0m",
      "\u001b[0;31mAttributeError\u001b[0m                            Traceback (most recent call last)",
      "\u001b[0;32m<ipython-input-102-649209b80ff1>\u001b[0m in \u001b[0;36m<module>\u001b[0;34m\u001b[0m\n\u001b[1;32m      4\u001b[0m \u001b[0;34m\u001b[0m\u001b[0m\n\u001b[1;32m      5\u001b[0m \u001b[0;31m# Check the value of CupOfTea.temperature.\u001b[0m\u001b[0;34m\u001b[0m\u001b[0;34m\u001b[0m\u001b[0;34m\u001b[0m\u001b[0m\n\u001b[0;32m----> 6\u001b[0;31m \u001b[0mprint\u001b[0m\u001b[0;34m(\u001b[0m\u001b[0;34m'CupOfTea.temperature =='\u001b[0m\u001b[0;34m,\u001b[0m \u001b[0mCupOfTea\u001b[0m\u001b[0;34m.\u001b[0m\u001b[0mtemperature\u001b[0m\u001b[0;34m)\u001b[0m\u001b[0;34m\u001b[0m\u001b[0;34m\u001b[0m\u001b[0m\n\u001b[0m",
      "\u001b[0;31mAttributeError\u001b[0m: type object 'CupOfTea' has no attribute 'temperature'"
     ]
    }
   ],
   "source": [
    "# Check the dictionary of CupOfTea.\n",
    "print('CupOfTea.__dict__ ==', CupOfTea.__dict__)\n",
    "print()\n",
    "\n",
    "# Check the value of CupOfTea.temperature.\n",
    "print('CupOfTea.temperature ==', CupOfTea.temperature)"
   ]
  },
  {
   "cell_type": "code",
   "execution_count": 8,
   "metadata": {},
   "outputs": [],
   "source": [
    "# Remove temperature from CupOfTea.\n",
    "del CupOfTea.temperature"
   ]
  },
  {
   "cell_type": "code",
   "execution_count": 98,
   "metadata": {},
   "outputs": [],
   "source": [
    "# Re-define CupOfTea, now with a custom constructor,\n",
    "# and a .get_description() function.\n",
    "class CupOfTea:\n",
    "    name = 'generic tea'\n",
    "    \n",
    "    def __init__(self, temperature, name):\n",
    "        self.temperature = temperature\n",
    "        self.name = name\n",
    "    def get_description(self, extra_text=''):\n",
    "        return '{!r} at {} degrees fahrenheit{}'.format(\n",
    "            self.name,\n",
    "            self.temperature,\n",
    "            extra_text,\n",
    "        )"
   ]
  },
  {
   "cell_type": "code",
   "execution_count": 46,
   "metadata": {},
   "outputs": [
    {
     "name": "stdout",
     "output_type": "stream",
     "text": [
      "'awesome assam' at 212 degrees fahrenheit\n",
      "'delicate darjeeling' at 190 degrees fahrenheit!\n"
     ]
    }
   ],
   "source": [
    "# Define a couple instances of CupOfTea\n",
    "morning_cup = CupOfTea(212, 'awesome assam')\n",
    "afternoon_cup = CupOfTea(190, 'delicate darjeeling')\n",
    "print(morning_cup.get_description())\n",
    "print(afternoon_cup.get_description(extra_text='!'))"
   ]
  },
  {
   "cell_type": "code",
   "execution_count": 47,
   "metadata": {},
   "outputs": [
    {
     "name": "stdout",
     "output_type": "stream",
     "text": [
      "'not-so-awesome assam' at 70 degrees fahrenheit :(\n"
     ]
    }
   ],
   "source": [
    "# Aliasing: Assignment doesn't create a new object;\n",
    "# it just gives another name to the existing object.\n",
    "also_morning_cup = morning_cup\n",
    "\n",
    "# Therefore, attribute assignments on also_morning_cup will\n",
    "# be reflected when looking at morning_cup.\n",
    "also_morning_cup.name = 'not-so-awesome assam'\n",
    "also_morning_cup.temperature = 70\n",
    "print(morning_cup.get_description(' :('))"
   ]
  },
  {
   "cell_type": "code",
   "execution_count": 48,
   "metadata": {},
   "outputs": [
    {
     "name": "stdout",
     "output_type": "stream",
     "text": [
      "'generic tea' at 190 degrees fahrenheit\n"
     ]
    }
   ],
   "source": [
    "# Same goes with attribute deletion.\n",
    "also_afternoon_cup = afternoon_cup\n",
    "del also_afternoon_cup.name\n",
    "print(afternoon_cup.get_description())"
   ]
  },
  {
   "cell_type": "code",
   "execution_count": 43,
   "metadata": {},
   "outputs": [
    {
     "name": "stdout",
     "output_type": "stream",
     "text": [
      "CupOfTea.get_description ==  <function CupOfTea.get_description at 0x7f99a89859d8>\n",
      "\n",
      "Is CupOfTea.get_description a function? True\n"
     ]
    }
   ],
   "source": [
    "def f(): pass\n",
    "func_type = type(f)\n",
    "\n",
    "# get_description  on CupOfTea is a normal function.\n",
    "print('CupOfTea.get_description == ', CupOfTea.get_description)\n",
    "print()\n",
    "print(\n",
    "    'Is CupOfTea.get_description a function?',\n",
    "    isinstance(CupOfTea.get_description, func_type),\n",
    ")"
   ]
  },
  {
   "cell_type": "code",
   "execution_count": 52,
   "metadata": {},
   "outputs": [
    {
     "name": "stdout",
     "output_type": "stream",
     "text": [
      "morning_cup.get_description ==  <bound method CupOfTea.get_description of <__main__.CupOfTea object at 0x7f99a898ccf8>>\n",
      "\n",
      "Is morning_cup.get_description a function? False\n"
     ]
    }
   ],
   "source": [
    "# But get_description on morning_cup isn't!?\n",
    "print('morning_cup.get_description == ', morning_cup.get_description)\n",
    "print()\n",
    "print(\n",
    "    isinstance(morning_cup.get_description, func_type),\n",
    ")"
   ]
  },
  {
   "cell_type": "code",
   "execution_count": 64,
   "metadata": {},
   "outputs": [
    {
     "name": "stdout",
     "output_type": "stream",
     "text": [
      "'not-so-awesome assam' at 70 degrees fahrenheit, sir\n",
      "'not-so-awesome assam' at 70 degrees fahrenheit, broski\n"
     ]
    }
   ],
   "source": [
    "# morning_cup.get_description is a 'bound method',\n",
    "# which although technically not a function,\n",
    "# can be treated like the original function with its\n",
    "# first argument 'pre-loaded' with an instance of the class.\n",
    "the_method = morning_cup.get_description\n",
    "print(the_method(', sir'))\n",
    "print(the_method(', broski'))"
   ]
  },
  {
   "cell_type": "code",
   "execution_count": 67,
   "metadata": {},
   "outputs": [
    {
     "name": "stdout",
     "output_type": "stream",
     "text": [
      "'iced tea' at -459 degrees fahrenheit. absolutely refreshing!\n"
     ]
    }
   ],
   "source": [
    "# You can replicate this behavior by passing an instance\n",
    "# directly into the original function.\n",
    "the_function = CupOfTea.get_description\n",
    "the_instance = CupOfTea(-459, 'iced tea')\n",
    "the_argument = '. absolutely refreshing!'\n",
    "print(the_function(the_instance, the_argument))"
   ]
  },
  {
   "cell_type": "code",
   "execution_count": 101,
   "metadata": {},
   "outputs": [
    {
     "name": "stdout",
     "output_type": "stream",
     "text": [
      "tea is boring; DRINK COFFEE\n",
      "'ooooolong' at 185 degrees fahrenheit, yay!\n"
     ]
    }
   ],
   "source": [
    "evening_tea_1 = CupOfTea(185, 'grassy green')\n",
    "evening_tea_2 = CupOfTea(185, 'ooooolong')\n",
    "\n",
    "def coffee_drinkers_perspective(extra_text=None):\n",
    "    return 'tea is boring; DRINK COFFEE'\n",
    "\n",
    "evening_tea_1.get_description = coffee_drinkers_perspective\n",
    "print(evening_tea_1.get_description(', yay!'))\n",
    "print(evening_tea_2.get_description(', yay!'))"
   ]
  },
  {
   "cell_type": "code",
   "execution_count": 100,
   "metadata": {},
   "outputs": [
    {
     "name": "stdout",
     "output_type": "stream",
     "text": [
      "'grassy green' is boring; DRINK COFFEE\n",
      "'ooooolong' is boring; DRINK COFFEE\n"
     ]
    }
   ],
   "source": [
    "evening_tea_1 = CupOfTea(185, 'grassy green')\n",
    "evening_tea_2 = CupOfTea(185, 'ooooolong')\n",
    "\n",
    "def coffee_drinkers_perspective(cup_of_tea, extra_text=None):\n",
    "    return '{!r} is boring; DRINK COFFEE'.format(cup_of_tea.name)\n",
    "\n",
    "original = CupOfTea.get_description\n",
    "\n",
    "CupOfTea.get_description = coffee_drinkers_perspective\n",
    "print(evening_tea_1.get_description(', yay!'))\n",
    "print(evening_tea_2.get_description(', yay!'))\n",
    "\n",
    "CupOfTea.get_description = original"
   ]
  },
  {
   "cell_type": "code",
   "execution_count": null,
   "metadata": {},
   "outputs": [],
   "source": []
  }
 ],
 "metadata": {
  "kernelspec": {
   "display_name": "Python 3",
   "language": "python",
   "name": "python3"
  },
  "language_info": {
   "codemirror_mode": {
    "name": "ipython",
    "version": 3
   },
   "file_extension": ".py",
   "mimetype": "text/x-python",
   "name": "python",
   "nbconvert_exporter": "python",
   "pygments_lexer": "ipython3",
   "version": "3.6.8"
  }
 },
 "nbformat": 4,
 "nbformat_minor": 2
}
